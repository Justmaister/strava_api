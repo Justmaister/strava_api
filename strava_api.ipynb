{
 "cells": [
  {
   "cell_type": "markdown",
   "metadata": {},
   "source": [
    "# Get Strava Access and Refresh Tokens"
   ]
  },
  {
   "cell_type": "code",
   "execution_count": 130,
   "metadata": {},
   "outputs": [],
   "source": [
    "import requests\n",
    "import json\n",
    "import logging\n",
    "import os\n",
    "from typing import Any, Dict\n",
    "from dotenv import load_dotenv\n",
    "\n",
    "logging.basicConfig(level=logging.INFO, format='%(asctime)s - %(levelname)s - %(message)s')\n",
    "\n",
    "load_dotenv()\n",
    "\n",
    "client_id = os.getenv('CLIENT_ID')\n",
    "client_secret = os.getenv('CLIENT_SECRET')\n",
    "code = os.getenv('CODE')\n",
    "url = f\"https://www.strava.com/oauth/token?client_id={client_id}&client_secret={client_secret}&code={code}&grant_type=authorization_code\"\n",
    "\n",
    "request_made = False\n",
    "\n",
    "def get_strava_tokens() -> Dict[str, Any]:\n",
    "    global request_made\n",
    "    if not request_made:\n",
    "        try:\n",
    "            payload = {}\n",
    "            headers = {}\n",
    "\n",
    "            logging.info(\"Sending request\")\n",
    "            response = requests.request(\"POST\", url, headers=headers, data=payload)\n",
    "            response.raise_for_status()\n",
    "            result_dict = json.loads(response.text)\n",
    "            logging.info(\"Request successful: %s\", result_dict)\n",
    "\n",
    "            request_made = True\n",
    "\n",
    "            return result_dict\n",
    "\n",
    "        except requests.exceptions.HTTPError as http_err:\n",
    "            logging.error(\"HTTP error occurred: %s\", http_err)\n",
    "        except Exception as err:\n",
    "            logging.error(\"An error occurred: %s\", err)\n",
    "    else:\n",
    "        logging.warning(\"Request has already been made. Please use a different code.\")\n",
    "        pass\n",
    "\n",
    "result = get_strava_tokens()\n",
    "\n",
    "# if __name__ == \"__main__\":\n",
    "#     print(json.dumps(get_strava_tokens()))"
   ]
  },
  {
   "cell_type": "code",
   "execution_count": 134,
   "metadata": {},
   "outputs": [
    {
     "name": "stdout",
     "output_type": "stream",
     "text": [
      "<class 'dict'>\n"
     ]
    }
   ],
   "source": [
    "print(type(result))"
   ]
  },
  {
   "cell_type": "code",
   "execution_count": 95,
   "metadata": {},
   "outputs": [],
   "source": [
    "import datetime\n",
    "\n",
    "strava_acces_token = result[\"access_token\"]\n",
    "strava_refresh_token = result[\"refresh_token\"]\n",
    "strava_token_expires_at = result[\"expires_at\"]\n",
    "strava_token_expires_at_utc_timestamp = datetime.datetime.fromtimestamp(strava_token_expires_at)\n",
    "strava_athlete_id = result[\"athlete\"][\"id\"]\n"
   ]
  },
  {
   "cell_type": "code",
   "execution_count": null,
   "metadata": {},
   "outputs": [],
   "source": []
  },
  {
   "cell_type": "code",
   "execution_count": null,
   "metadata": {},
   "outputs": [],
   "source": []
  },
  {
   "cell_type": "code",
   "execution_count": null,
   "metadata": {},
   "outputs": [],
   "source": []
  }
 ],
 "metadata": {
  "kernelspec": {
   "display_name": "Python 3",
   "language": "python",
   "name": "python3"
  },
  "language_info": {
   "codemirror_mode": {
    "name": "ipython",
    "version": 3
   },
   "file_extension": ".py",
   "mimetype": "text/x-python",
   "name": "python",
   "nbconvert_exporter": "python",
   "pygments_lexer": "ipython3",
   "version": "3.11.2"
  }
 },
 "nbformat": 4,
 "nbformat_minor": 2
}
