{
 "cells": [
  {
   "cell_type": "markdown",
   "metadata": {},
   "source": [
    "# Get Strava Access and Refresh Tokens"
   ]
  },
  {
   "cell_type": "code",
   "execution_count": 63,
   "metadata": {},
   "outputs": [],
   "source": [
    "import requests\n",
    "import json\n",
    "import logging\n",
    "from typing import Any, Dict\n",
    "\n",
    "logging.basicConfig(level=logging.INFO, format='%(asctime)s - %(levelname)s - %(message)s')\n",
    "\n",
    "code = '9fdb50897059d33410dcdf6e3955f93b3d76e46a'\n",
    "url = f\"https://www.strava.com/oauth/token?client_id=150699&client_secret=08382f68c9503560ef60005685a79ecc3671e86d&code={code}&grant_type=authorization_code\"\n",
    "\n",
    "request_made = False\n",
    "\n",
    "def get_strava_tokens() -> Dict[str, Any]:\n",
    "    global request_made\n",
    "    if not request_made:\n",
    "        try:\n",
    "            payload = {}\n",
    "            headers = {}\n",
    "\n",
    "            logging.info(\"Sending request\")\n",
    "            response = requests.request(\"POST\", url, headers=headers, data=payload)\n",
    "            response.raise_for_status()\n",
    "            result_dict = json.loads(response.text)\n",
    "            logging.info(\"Request successful: %s\", result_dict)\n",
    "\n",
    "            request_made = True\n",
    "\n",
    "            return result_dict\n",
    "\n",
    "        except requests.exceptions.HTTPError as http_err:\n",
    "            # logging.error(\"HTTP error occurred: %s\", http_err)\n",
    "            logging.error(\"HTTP error occurred:\")\n",
    "            raise http_err\n",
    "        except Exception as err:\n",
    "            # logging.error(\"An error occurred: %s\", err)\n",
    "            logging.error(\"An error occurred:\")\n",
    "            raise err\n",
    "    else:\n",
    "        logging.warning(\"Request has already been made. Please use a different code.\")"
   ]
  },
  {
   "cell_type": "code",
   "execution_count": 64,
   "metadata": {},
   "outputs": [],
   "source": [
    "result = get_strava_tokens()"
   ]
  },
  {
   "cell_type": "code",
   "execution_count": 67,
   "metadata": {},
   "outputs": [
    {
     "data": {
      "text/plain": [
       "{'token_type': 'Bearer',\n",
       " 'expires_at': 1741194232,\n",
       " 'expires_in': 18006,\n",
       " 'refresh_token': '853b550fc7f378cd8f51ca5d71bba1d3c2d92dd2',\n",
       " 'access_token': 'b9e3f3b47dfcfc66c5add37d25ef273d42c57e6e',\n",
       " 'athlete': {'id': 34557292,\n",
       "  'username': None,\n",
       "  'resource_state': 2,\n",
       "  'firstname': 'Just',\n",
       "  'lastname': 'Sala',\n",
       "  'bio': None,\n",
       "  'city': None,\n",
       "  'state': None,\n",
       "  'country': None,\n",
       "  'sex': 'M',\n",
       "  'premium': False,\n",
       "  'summit': False,\n",
       "  'created_at': '2018-09-06T10:04:45Z',\n",
       "  'updated_at': '2021-01-24T15:21:00Z',\n",
       "  'badge_type_id': 0,\n",
       "  'weight': 0.0,\n",
       "  'profile_medium': 'https://lh3.googleusercontent.com/a/ACg8ocKaJhohmi4NHiCFoUeLTTdiA7aSmzXSor5GzBGpDN6RxGyjqz7N=s96-c',\n",
       "  'profile': 'https://lh3.googleusercontent.com/a/ACg8ocKaJhohmi4NHiCFoUeLTTdiA7aSmzXSor5GzBGpDN6RxGyjqz7N=s96-c',\n",
       "  'friend': None,\n",
       "  'follower': None}}"
      ]
     },
     "execution_count": 67,
     "metadata": {},
     "output_type": "execute_result"
    }
   ],
   "source": [
    "result"
   ]
  },
  {
   "cell_type": "code",
   "execution_count": 70,
   "metadata": {},
   "outputs": [],
   "source": [
    "import datetime\n",
    "\n",
    "strava_acces_token = result[\"access_token\"]\n",
    "strava_refresh_token = result[\"refresh_token\"]\n",
    "strava_token_expires_at = result[\"expires_at\"]\n",
    "strava_token_expires_at_utc_timestamp = datetime.datetime.fromtimestamp(strava_token_expires_at)\n",
    "strava_athlete_id = result[\"athlete\"][\"id\"]\n"
   ]
  },
  {
   "cell_type": "code",
   "execution_count": 72,
   "metadata": {},
   "outputs": [
    {
     "name": "stdout",
     "output_type": "stream",
     "text": [
      "1741194232\n",
      "2025-03-05 18:03:52\n",
      "34557292\n"
     ]
    }
   ],
   "source": [
    "print(strava_token_expires_at)\n",
    "print(strava_token_expires_at_utc_timestamp)\n",
    "print(strava_athlete_id)"
   ]
  },
  {
   "cell_type": "code",
   "execution_count": null,
   "metadata": {},
   "outputs": [],
   "source": []
  },
  {
   "cell_type": "code",
   "execution_count": null,
   "metadata": {},
   "outputs": [],
   "source": []
  },
  {
   "cell_type": "code",
   "execution_count": 32,
   "metadata": {},
   "outputs": [
    {
     "name": "stdout",
     "output_type": "stream",
     "text": [
      "{'message': 'Bad Request', 'errors': [{'resource': 'AuthorizationCode', 'field': 'code', 'code': 'invalid'}]}\n"
     ]
    }
   ],
   "source": [
    "import requests\n",
    "import json\n",
    "\n",
    "code = '7d5d966e985c79e3537db6bcbed7f12081a82efd'\n",
    "url = f\"https://www.strava.com/oauth/token?client_id=150699&client_secret=08382f68c9503560ef60005685a79ecc3671e86d&code={code}&grant_type=authorization_code\"\n",
    "\n",
    "\n",
    "payload = {}\n",
    "headers = {}\n",
    "\n",
    "response = requests.request(\"POST\", url, headers=headers, data=payload)\n",
    "\n",
    "dict_result = json.loads(response.text)\n",
    "print(dict_result)"
   ]
  },
  {
   "cell_type": "code",
   "execution_count": null,
   "metadata": {},
   "outputs": [],
   "source": []
  }
 ],
 "metadata": {
  "kernelspec": {
   "display_name": "Python 3",
   "language": "python",
   "name": "python3"
  },
  "language_info": {
   "codemirror_mode": {
    "name": "ipython",
    "version": 3
   },
   "file_extension": ".py",
   "mimetype": "text/x-python",
   "name": "python",
   "nbconvert_exporter": "python",
   "pygments_lexer": "ipython3",
   "version": "3.11.2"
  }
 },
 "nbformat": 4,
 "nbformat_minor": 2
}
